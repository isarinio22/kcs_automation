{
 "cells": [
  {
   "metadata": {
    "ExecuteTime": {
     "end_time": "2025-07-07T12:11:01.734432Z",
     "start_time": "2025-07-07T12:10:58.656817Z"
    }
   },
   "cell_type": "code",
   "source": [
    "# ───────────────────────────── IMPORTS ─────────────────────────────\n",
    "import pandas as pd\n",
    "from datetime import datetime, timedelta\n",
    "from extract.queries import fetch_ka_window, fetch_cases_window, last_n_months_window\n",
    "from transform.clean import clean_articles, clean_cases\n",
    "from transform.metrics import (\n",
    "    close_reason_ratio,\n",
    "    get_all_regions_valid_cases_and_ratios,\n",
    "    median_days_to_publish,\n",
    "    count_created_articles,\n",
    "    count_published_articles,\n",
    "    open_cases_week_over_week_by_region,\n",
    "    osp_kcs_engagement,\n",
    ")\n",
    "from src.visualize.charts import format_kcs_engagement_by_region\n",
    "from visualize.charts import (\n",
    "    close_reason_overall_pie,\n",
    "    close_reason_distribution_pie,\n",
    "    plot_valid_cases_ratio_stacked,\n",
    "    plot_articles_created_per_employee_by_region,\n",
    "    plot_articles_created_per_coach_by_region,\n",
    "    plot_open_cases_week_over_week_by_region,\n",
    ")\n",
    "\n"
   ],
   "id": "f14174781da9c2df",
   "outputs": [
    {
     "name": "stderr",
     "output_type": "stream",
     "text": [
      "C:\\dev\\Projects\\kcs_report\\.venv\\Lib\\site-packages\\snowflake\\connector\\options.py:104: UserWarning: You have an incompatible version of 'pyarrow' installed (20.0.0), please install a version that adheres to: 'pyarrow<19.0.0; extra == \"pandas\"'\n",
      "  warn_incompatible_dep(\n"
     ]
    }
   ],
   "execution_count": 1
  },
  {
   "metadata": {
    "ExecuteTime": {
     "end_time": "2025-07-07T12:11:01.780740Z",
     "start_time": "2025-07-07T12:11:01.773551Z"
    }
   },
   "cell_type": "code",
   "source": [
    "# ───────────────────────────── DATE CALCULATIONS ─────────────────────────────\n",
    "now = pd.Timestamp.now()\n",
    "first_of_this_month = now.replace(day=1, hour=0, minute=0, second=0, microsecond=0)\n",
    "last_month_end = first_of_this_month - pd.Timedelta(seconds=1)\n",
    "last_month_start = last_month_end.replace(day=1, hour=0, minute=0, second=0, microsecond=0)\n",
    "start = last_month_start\n",
    "end = last_month_end\n",
    "\n",
    "# Convert to string for DB compatibility\n",
    "start_str = start.strftime(\"%Y-%m-%d %H:%M:%S\")\n",
    "end_str = end.strftime(\"%Y-%m-%d %H:%M:%S\")\n",
    "\n"
   ],
   "id": "a15ec7fa61f73d6e",
   "outputs": [],
   "execution_count": 2
  },
  {
   "metadata": {
    "ExecuteTime": {
     "end_time": "2025-07-07T12:11:30.201289Z",
     "start_time": "2025-07-07T12:11:02.792115Z"
    }
   },
   "cell_type": "code",
   "source": [
    "# ───────────────────────────── DATA FETCH & CLEAN ─────────────────────────────\n",
    "df_ka = fetch_ka_window(start_str, end_str)   # DataFrame born here\n",
    "df_cases = fetch_cases_window(start_str, end_str) # DataFrame born here\n",
    "\n",
    "df_ka_clean = clean_articles(df_ka)\n",
    "df_cases_clean = clean_cases(df_cases)\n",
    "\n"
   ],
   "id": "fb07ad3a5d2bcda4",
   "outputs": [],
   "execution_count": 3
  },
  {
   "metadata": {
    "ExecuteTime": {
     "end_time": "2025-07-07T12:12:06.068734Z",
     "start_time": "2025-07-07T12:12:05.226986Z"
    }
   },
   "cell_type": "code",
   "source": [
    "# ───────────────────────────── CHARTS & METRICS ─────────────────────────────\n",
    "# # Show the overall close reason ratio as a pie chart\n",
    "fig = close_reason_overall_pie(df_cases_clean)\n",
    "fig.show()\n",
    "\n",
    "# fig = close_reason_distribution_pie(df_cases_clean)\n",
    "# fig.show()\n",
    "\n",
    "# plot_valid_cases_ratio_stacked(df_cases_clean)\n",
    "\n",
    "# created_count = count_created_articles(df_ka_clean, start, end)\n",
    "# published_count = count_published_articles(df_ka_clean, start, end)\n",
    "# print(f\"Unique created articles in last month: {created_count}\")\n",
    "# print(f\"Unique published articles in last month: {published_count}\")\n",
    "\n",
    "# median_days_to_publish = median_days_to_publish(df_ka_clean)\n",
    "# print(\"Median days to publish:\", median_days_to_publish)\n",
    "\n",
    "# fig = plot_articles_created_per_employee_by_region(df_ka_clean, start, end)\n",
    "# fig.show()\n",
    "\n",
    "# fig = plot_articles_created_per_coach_by_region(df_ka_clean, start, end)\n",
    "# fig.show()\n",
    "\n",
    "plot_open_cases_week_over_week_by_region(df_cases_clean)\n",
    "\n",
    "result = osp_kcs_engagement(df_cases_clean)\n",
    "# print(\"Filtered count:\", result[\"count\"])\n",
    "# print(\"Close reason ratio:\", result[\"close_reason_ratio\"])\n",
    "\n"
   ],
   "id": "3a3c4c37faa036cc",
   "outputs": [
    {
     "ename": "AttributeError",
     "evalue": "'tuple' object has no attribute 'show'",
     "output_type": "error",
     "traceback": [
      "\u001B[31m---------------------------------------------------------------------------\u001B[39m",
      "\u001B[31mAttributeError\u001B[39m                            Traceback (most recent call last)",
      "\u001B[36mCell\u001B[39m\u001B[36m \u001B[39m\u001B[32mIn[5]\u001B[39m\u001B[32m, line 4\u001B[39m\n\u001B[32m      1\u001B[39m \u001B[38;5;66;03m# ───────────────────────────── CHARTS & METRICS ─────────────────────────────\u001B[39;00m\n\u001B[32m      2\u001B[39m \u001B[38;5;66;03m# # Show the overall close reason ratio as a pie chart\u001B[39;00m\n\u001B[32m      3\u001B[39m fig = close_reason_overall_pie(df_cases_clean)\n\u001B[32m----> \u001B[39m\u001B[32m4\u001B[39m \u001B[43mfig\u001B[49m\u001B[43m.\u001B[49m\u001B[43mshow\u001B[49m()\n\u001B[32m      6\u001B[39m \u001B[38;5;66;03m# fig = close_reason_distribution_pie(df_cases_clean)\u001B[39;00m\n\u001B[32m      7\u001B[39m \u001B[38;5;66;03m# fig.show()\u001B[39;00m\n\u001B[32m      8\u001B[39m \n\u001B[32m   (...)\u001B[39m\u001B[32m     22\u001B[39m \u001B[38;5;66;03m# fig = plot_articles_created_per_coach_by_region(df_ka_clean, start, end)\u001B[39;00m\n\u001B[32m     23\u001B[39m \u001B[38;5;66;03m# fig.show()\u001B[39;00m\n\u001B[32m     25\u001B[39m plot_open_cases_week_over_week_by_region(df_cases_clean)\n",
      "\u001B[31mAttributeError\u001B[39m: 'tuple' object has no attribute 'show'"
     ]
    }
   ],
   "execution_count": 5
  },
  {
   "metadata": {
    "ExecuteTime": {
     "end_time": "2025-07-07T12:12:05.170277Z",
     "start_time": "2025-07-07T12:11:30.235423Z"
    }
   },
   "cell_type": "code",
   "source": [
    "# ───────────────────────────── PDF EXPORT ─────────────────────────────\n",
    "from src.report.exporter import export_report_pdf\n",
    "\n",
    "# --- Generate all required figures ---\n",
    "fig1, close_reason_overall_pie_insight = close_reason_overall_pie(df_cases_clean)\n",
    "fig2 = close_reason_distribution_pie(df_cases_clean)\n",
    "fig3, plot_valid_cases_ratio_stacked_insight = plot_valid_cases_ratio_stacked(df_cases_clean)\n",
    "fig4 = plot_articles_created_per_employee_by_region(df_ka_clean, start, end)\n",
    "fig5 = plot_articles_created_per_coach_by_region(df_ka_clean, start, end)\n",
    "fig6 = plot_open_cases_week_over_week_by_region(df_cases_clean)\n",
    "\n",
    "# --- Calculate metrics and insights ---\n",
    "created_count = count_created_articles(df_ka_clean, start, end)\n",
    "published_count = count_published_articles(df_ka_clean, start, end)\n",
    "median_days = median_days_to_publish(df_ka_clean)\n",
    "osp_result = osp_kcs_engagement(df_cases_clean)\n",
    "\n",
    "figure_tuples = [\n",
    "    (\"Close Reason Overall Pie\", fig1, close_reason_overall_pie_insight),\n",
    "    (\"Close Reason Distribution\", fig2, \"Knowledge Action: The breakdown of closed cases by the type of Knowledge Action taken\"),\n",
    "    (\n",
    "        \"Valid Cases Ratio Stacked\",\n",
    "        fig3,\n",
    "        (\n",
    "            \"Top 3 Regions by Close Reason Ratio:\\n\" +\n",
    "            \"\\n\".join([\n",
    "                f\"{ordinal} place: {region}: {ratio:.1%}\"\n",
    "                for ordinal, (region, ratio) in zip(\n",
    "                    [\"1st\", \"2nd\", \"3rd\"],\n",
    "                    sorted(plot_valid_cases_ratio_stacked_insight.items(), key=lambda item: item[1], reverse=True)[:3]\n",
    "                )\n",
    "            ])\n",
    "            if isinstance(plot_valid_cases_ratio_stacked_insight, dict) and plot_valid_cases_ratio_stacked_insight\n",
    "            else \"No region data available.\"\n",
    "        )\n",
    "    ),\n",
    "    (\"Articles Created per Employee by Region\", fig4, f\"Unique created articles in last month: {created_count}\"),\n",
    "    (\"Articles Created per Coach by Region\", fig5, f\"Unique published articles in last month: {published_count}\"),\n",
    "    (\"Open Cases Week over Week by Region\", fig6, f\"\")\n",
    "]\n",
    "\n",
    "export_report_pdf(figure_tuples, output_path=\"kcs_report.pdf\")"
   ],
   "id": "4da9acf16d8b29c2",
   "outputs": [
    {
     "name": "stdout",
     "output_type": "stream",
     "text": [
      "PDF report saved to kcs_report.pdf\n"
     ]
    }
   ],
   "execution_count": 4
  },
  {
   "metadata": {},
   "cell_type": "code",
   "source": "",
   "id": "274b6de2f62c1974",
   "outputs": [],
   "execution_count": null
  }
 ],
 "metadata": {
  "kernelspec": {
   "display_name": "Python 3",
   "language": "python",
   "name": "python3"
  },
  "language_info": {
   "codemirror_mode": {
    "name": "ipython",
    "version": 2
   },
   "file_extension": ".py",
   "mimetype": "text/x-python",
   "name": "python",
   "nbconvert_exporter": "python",
   "pygments_lexer": "ipython2",
   "version": "2.7.6"
  }
 },
 "nbformat": 4,
 "nbformat_minor": 5
}
